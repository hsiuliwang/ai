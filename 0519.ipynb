{
 "cells": [
  {
   "cell_type": "code",
   "execution_count": 5,
   "metadata": {
    "colab": {
     "base_uri": "https://localhost:8080/",
     "height": 35
    },
    "id": "ixGnoXBKMzT6",
    "outputId": "51d57a3f-dbd8-4c28-cd5d-29a45ce9337b"
   },
   "outputs": [
    {
     "data": {
      "text/plain": [
       "'2.3.1'"
      ]
     },
     "execution_count": 5,
     "metadata": {},
     "output_type": "execute_result"
    }
   ],
   "source": [
    "import tensorflow as tf\n",
    "tf.__version__\n"
   ]
  },
  {
   "cell_type": "code",
   "execution_count": 6,
   "metadata": {
    "colab": {
     "base_uri": "https://localhost:8080/"
    },
    "id": "hAeRaEi9NeeY",
    "outputId": "89789da0-da5b-4056-8ca5-7c2a127baf82"
   },
   "outputs": [
    {
     "name": "stdout",
     "output_type": "stream",
     "text": [
      "GPU Available False\n"
     ]
    }
   ],
   "source": [
    "print(\"GPU Available\",tf.test.is_gpu_available())"
   ]
  },
  {
   "cell_type": "code",
   "execution_count": 7,
   "metadata": {
    "colab": {
     "base_uri": "https://localhost:8080/"
    },
    "id": "0kssLsoKNgnH",
    "outputId": "3bf5d935-0d70-42f8-c617-706cb4a784e6"
   },
   "outputs": [
    {
     "name": "stdout",
     "output_type": "stream",
     "text": [
      "Wed May 26 16:41:07 2021       \n",
      "+-----------------------------------------------------------------------------+\n",
      "| NVIDIA-SMI 456.55       Driver Version: 456.55       CUDA Version: 11.1     |\n",
      "|-------------------------------+----------------------+----------------------+\n",
      "| GPU  Name            TCC/WDDM | Bus-Id        Disp.A | Volatile Uncorr. ECC |\n",
      "| Fan  Temp  Perf  Pwr:Usage/Cap|         Memory-Usage | GPU-Util  Compute M. |\n",
      "|===============================+======================+======================|\n",
      "|   0  GeForce 940MX      WDDM  | 00000000:01:00.0 Off |                  N/A |\n",
      "| N/A   48C    P0    N/A /  N/A |     56MiB /  2048MiB |      0%      Default |\n",
      "+-------------------------------+----------------------+----------------------+\n",
      "                                                                               \n",
      "+-----------------------------------------------------------------------------+\n",
      "| Processes:                                                                  |\n",
      "|  GPU   GI   CI        PID   Type   Process name                  GPU Memory |\n",
      "|        ID   ID                                                   Usage      |\n",
      "|=============================================================================|\n",
      "|    0   N/A  N/A     11200      C   ...elle\\anaconda3\\python.exe    N/A      |\n",
      "+-----------------------------------------------------------------------------+\n"
     ]
    }
   ],
   "source": [
    "!nvidia-smi"
   ]
  },
  {
   "cell_type": "code",
   "execution_count": 8,
   "metadata": {
    "id": "jHuQS9nIOQv3"
   },
   "outputs": [],
   "source": [
    "A=tf.constant([[1,2],[3,4]])\n",
    "B=tf.constant([[5,6],[7,8]])\n",
    "C=tf.matmul(A,B)"
   ]
  },
  {
   "cell_type": "code",
   "execution_count": 9,
   "metadata": {
    "colab": {
     "base_uri": "https://localhost:8080/"
    },
    "id": "GZIcgkLEOh_n",
    "outputId": "40d71c1f-eb79-45f2-ca23-737e0c23c756"
   },
   "outputs": [
    {
     "name": "stdout",
     "output_type": "stream",
     "text": [
      "tf.Tensor(\n",
      "[[19 22]\n",
      " [43 50]], shape=(2, 2), dtype=int32)\n"
     ]
    }
   ],
   "source": [
    "print(C)"
   ]
  },
  {
   "cell_type": "code",
   "execution_count": 10,
   "metadata": {
    "id": "IFzn1GVIOs7I"
   },
   "outputs": [],
   "source": [
    "#https://knowyourdata-tfds.withgoogle.com/#tab=STATS&dataset=mnist\n",
    "#數據集"
   ]
  },
  {
   "cell_type": "code",
   "execution_count": 11,
   "metadata": {
    "colab": {
     "base_uri": "https://localhost:8080/"
    },
    "id": "cZ1EUgyFO1QU",
    "outputId": "411c2120-5ae7-402c-fde0-0a214c96cac5"
   },
   "outputs": [
    {
     "name": "stdout",
     "output_type": "stream",
     "text": [
      "x_train=(60000, 28, 28)\n",
      "y_train=(60000,)\n"
     ]
    }
   ],
   "source": [
    "#載入資料 (將資料打散，放入train 與test 資料集)\n",
    "\n",
    "(x_train,y_train),(x_test,y_test)=tf.keras.datasets.mnist.load_data()\n",
    "print('x_train='+str(x_train.shape))\n",
    "print('y_train='+str(y_train.shape))"
   ]
  },
  {
   "cell_type": "code",
   "execution_count": 12,
   "metadata": {
    "colab": {
     "base_uri": "https://localhost:8080/"
    },
    "id": "bO9OaSHoPdki",
    "outputId": "b1b2fb58-9622-4654-e996-01fa69c72d2e"
   },
   "outputs": [
    {
     "name": "stdout",
     "output_type": "stream",
     "text": [
      "  0  0  0  0  0  0  0  0  0  0  0  0  0  0  0  0  0  0  0  0  0  0  0  0  0  0  0  0\n",
      "  0  0  0  0  0  0  0  0  0  0  0  0  0  0  0  0  0  0  0  0  0  0  0  0  0  0  0  0\n",
      "  0  0  0  0  0  0  0  0  0  0  0  0  0  0  0  0  0  0  0  0  0  0  0  0  0  0  0  0\n",
      "  0  0  0  0  0  0  0  0  0  0  0  0  0  0  0  0  0  0  0  0  0  0  0  0  0  0  0  0\n",
      "  0  0  0  0  0  0  0  0  0  0  0  0  0  0  0  0  0  0  0  0  0  0  0  0  0  0  0  0\n",
      "  0  0  0  0  0  0  0  0  0  0  0  0  3 18 18 18126136175 26166255247127  0  0  0  0\n",
      "  0  0  0  0  0  0  0  0 30 36 94154170253253253253253225172253242195 64  0  0  0  0\n",
      "  0  0  0  0  0  0  0 49238253253253253253253253253251 93 82 82 56 39  0  0  0  0  0\n",
      "  0  0  0  0  0  0  0 18219253253253253253198182247241  0  0  0  0  0  0  0  0  0  0\n",
      "  0  0  0  0  0  0  0  0 80156107253253205 11  0 43154  0  0  0  0  0  0  0  0  0  0\n",
      "  0  0  0  0  0  0  0  0  0 14  1154253 90  0  0  0  0  0  0  0  0  0  0  0  0  0  0\n",
      "  0  0  0  0  0  0  0  0  0  0  0139253190  2  0  0  0  0  0  0  0  0  0  0  0  0  0\n",
      "  0  0  0  0  0  0  0  0  0  0  0 11190253 70  0  0  0  0  0  0  0  0  0  0  0  0  0\n",
      "  0  0  0  0  0  0  0  0  0  0  0  0 35241225160108  1  0  0  0  0  0  0  0  0  0  0\n",
      "  0  0  0  0  0  0  0  0  0  0  0  0  0 81240253253119 25  0  0  0  0  0  0  0  0  0\n",
      "  0  0  0  0  0  0  0  0  0  0  0  0  0  0 45186253253150 27  0  0  0  0  0  0  0  0\n",
      "  0  0  0  0  0  0  0  0  0  0  0  0  0  0  0 16 93252253187  0  0  0  0  0  0  0  0\n",
      "  0  0  0  0  0  0  0  0  0  0  0  0  0  0  0  0  0249253249 64  0  0  0  0  0  0  0\n",
      "  0  0  0  0  0  0  0  0  0  0  0  0  0  0 46130183253253207  2  0  0  0  0  0  0  0\n",
      "  0  0  0  0  0  0  0  0  0  0  0  0 39148229253253253250182  0  0  0  0  0  0  0  0\n",
      "  0  0  0  0  0  0  0  0  0  0 24114221253253253253201 78  0  0  0  0  0  0  0  0  0\n",
      "  0  0  0  0  0  0  0  0 23 66213253253253253198 81  2  0  0  0  0  0  0  0  0  0  0\n",
      "  0  0  0  0  0  0 18171219253253253253195 80  9  0  0  0  0  0  0  0  0  0  0  0  0\n",
      "  0  0  0  0 55172226253253253253244133 11  0  0  0  0  0  0  0  0  0  0  0  0  0  0\n",
      "  0  0  0  0136253253253212135132 16  0  0  0  0  0  0  0  0  0  0  0  0  0  0  0  0\n",
      "  0  0  0  0  0  0  0  0  0  0  0  0  0  0  0  0  0  0  0  0  0  0  0  0  0  0  0  0\n",
      "  0  0  0  0  0  0  0  0  0  0  0  0  0  0  0  0  0  0  0  0  0  0  0  0  0  0  0  0\n",
      "  0  0  0  0  0  0  0  0  0  0  0  0  0  0  0  0  0  0  0  0  0  0  0  0  0  0  0  0\n",
      "\n",
      "y_train[0]=5\n"
     ]
    }
   ],
   "source": [
    "#顯示資料內容\n",
    "def printMartrixE(a): #顯示單一圖片的每一點資料\n",
    "  rows=a.shape[0] #取得圖片高度\n",
    "  cols=a.shape[1] #取得圖片寬度\n",
    "  for i in range(0,rows): #處理每一列的每一點資料\n",
    "    str1=\"\"\n",
    "    for j in range(0,cols): #處理同一行的每點資料\n",
    "      str1=str1+(\"%3.0f\"% a[i,j])\n",
    "    print(str1)#輸出整排的數據資料\n",
    "  print(\"\")\n",
    "printMartrixE(x_train[0]) #顯示第0筆的圖(內容)\n",
    "print('y_train[0]='+str(y_train[0])) #顯示第0筆的答案"
   ]
  },
  {
   "cell_type": "code",
   "execution_count": 13,
   "metadata": {
    "id": "XcT1dpl-Qec3"
   },
   "outputs": [],
   "source": [
    "import matplotlib.pyplot as plt #圖形顯示的函式庫\n"
   ]
  },
  {
   "cell_type": "code",
   "execution_count": 14,
   "metadata": {
    "colab": {
     "base_uri": "https://localhost:8080/",
     "height": 281
    },
    "id": "Wh2QuKdgQiyV",
    "outputId": "6c7bb9ef-ba1d-4682-eb29-b3fcea019235"
   },
   "outputs": [
    {
     "data": {
      "image/png": "[encoded data removed]",
      "text/plain": [
       "<Figure size 432x288 with 1 Axes>"
      ]
     },
     "metadata": {
      "needs_background": "light"
     },
     "output_type": "display_data"
    }
   ],
   "source": [
    "#顯示其中的圖形\n",
    "num=0 #顯示第num筆的圖(內容)\n",
    "plt.title('x_train[%d] Lable: %d'%(num,y_train[num]))#第num筆及答案\n",
    "plt.imshow(x_train[num],cmap=plt.get_cmap('gray_r')) #用灰階的方法顯示該筆\n",
    "plt.show() #秀出圖片"
   ]
  },
  {
   "cell_type": "code",
   "execution_count": null,
   "metadata": {
    "id": "kaSOjwesRs_A"
   },
   "outputs": [],
   "source": []
  },
  {
   "cell_type": "code",
   "execution_count": 15,
   "metadata": {
    "colab": {
     "base_uri": "https://localhost:8080/"
    },
    "id": "ThF09RjhRVdL",
    "outputId": "8f674528-c06c-4278-9260-6a5f90378474"
   },
   "outputs": [
    {
     "name": "stdout",
     "output_type": "stream",
     "text": [
      "  0  0  0  0  0  0  0  0  0  0  0  0  0  0  0  0  0  0  0  0  0  0  0  0  0  0  0  0\n",
      "  0  0  0  0  0  0  0  0  0  0  0  0  0  0  0  0  0  0  0  0  0  0  0  0  0  0  0  0\n",
      "  0  0  0  0  0  0  0  0  0  0  0  0  0  0  0  0  0  0  0  0  0  0  0  0  0  0  0  0\n",
      "  0  0  0  0  0  0  0  0  0  0  0  0  0  0  0  0  0  0  0  0  0  0  0  0  0  0  0  0\n",
      "  0  0  0  0  0  0  0  0  0  0  0  0  0  0  0  0  0  0  0  0  0  0  0  0  0  0  0  0\n",
      "  0  0  0  0  0  0  0  0  0  0  0  0  0  0  0  0  0  0  0  0 67232 39  0  0  0  0  0\n",
      "  0  0  0  0 62 81  0  0  0  0  0  0  0  0  0  0  0  0  0  0120180 39  0  0  0  0  0\n",
      "  0  0  0  0126163  0  0  0  0  0  0  0  0  0  0  0  0  0  2153210 40  0  0  0  0  0\n",
      "  0  0  0  0220163  0  0  0  0  0  0  0  0  0  0  0  0  0 27254162  0  0  0  0  0  0\n",
      "  0  0  0  0222163  0  0  0  0  0  0  0  0  0  0  0  0  0183254125  0  0  0  0  0  0\n",
      "  0  0  0 46245163  0  0  0  0  0  0  0  0  0  0  0  0  0198254 56  0  0  0  0  0  0\n",
      "  0  0  0120254163  0  0  0  0  0  0  0  0  0  0  0  0 23231254 29  0  0  0  0  0  0\n",
      "  0  0  0159254120  0  0  0  0  0  0  0  0  0  0  0  0163254216 16  0  0  0  0  0  0\n",
      "  0  0  0159254 67  0  0  0  0  0  0  0  0  0 14 86178248254 91  0  0  0  0  0  0  0\n",
      "  0  0  0159254 85  0  0  0 47 49116144150241243234179241252 40  0  0  0  0  0  0  0\n",
      "  0  0  0150253237207207207253254250240198143 91 28  5233250  0  0  0  0  0  0  0  0\n",
      "  0  0  0  0119177177177177177 98 56  0  0  0  0  0102254220  0  0  0  0  0  0  0  0\n",
      "  0  0  0  0  0  0  0  0  0  0  0  0  0  0  0  0  0169254137  0  0  0  0  0  0  0  0\n",
      "  0  0  0  0  0  0  0  0  0  0  0  0  0  0  0  0  0169254 57  0  0  0  0  0  0  0  0\n",
      "  0  0  0  0  0  0  0  0  0  0  0  0  0  0  0  0  0169254 57  0  0  0  0  0  0  0  0\n",
      "  0  0  0  0  0  0  0  0  0  0  0  0  0  0  0  0  0169255 94  0  0  0  0  0  0  0  0\n",
      "  0  0  0  0  0  0  0  0  0  0  0  0  0  0  0  0  0169254 96  0  0  0  0  0  0  0  0\n",
      "  0  0  0  0  0  0  0  0  0  0  0  0  0  0  0  0  0169254153  0  0  0  0  0  0  0  0\n",
      "  0  0  0  0  0  0  0  0  0  0  0  0  0  0  0  0  0169255153  0  0  0  0  0  0  0  0\n",
      "  0  0  0  0  0  0  0  0  0  0  0  0  0  0  0  0  0 96254153  0  0  0  0  0  0  0  0\n",
      "  0  0  0  0  0  0  0  0  0  0  0  0  0  0  0  0  0  0  0  0  0  0  0  0  0  0  0  0\n",
      "  0  0  0  0  0  0  0  0  0  0  0  0  0  0  0  0  0  0  0  0  0  0  0  0  0  0  0  0\n",
      "  0  0  0  0  0  0  0  0  0  0  0  0  0  0  0  0  0  0  0  0  0  0  0  0  0  0  0  0\n",
      "\n",
      "y_train[0]=4\n"
     ]
    }
   ],
   "source": [
    "#顯示資料內容\n",
    "def printMartrixE(a):\n",
    "  rows=a.shape[0]\n",
    "  cols=a.shape[1]\n",
    "  for i in range(0,rows):\n",
    "    str1=\"\"\n",
    "    for j in range(0,cols):\n",
    "      str1=str1+(\"%3.0f\"% a[i,j])\n",
    "    print(str1)\n",
    "  print(\"\")\n",
    "printMartrixE(x_train[2]) ###修改第三筆 0 1 \"2\"\n",
    "print('y_train[0]='+str(y_train[2])) "
   ]
  },
  {
   "cell_type": "code",
   "execution_count": 16,
   "metadata": {
    "colab": {
     "base_uri": "https://localhost:8080/",
     "height": 281
    },
    "id": "DWw51_yjRuOY",
    "outputId": "6ac1bb30-126a-4676-f710-7e145e846c42"
   },
   "outputs": [
    {
     "data": {
      "image/png": "[encoded data removed]",
      "text/plain": [
       "<Figure size 432x288 with 1 Axes>"
      ]
     },
     "metadata": {
      "needs_background": "light"
     },
     "output_type": "display_data"
    }
   ],
   "source": [
    "num=2 ####修改成2\n",
    "plt.title('x_train[%d] Lable: %d'%(num,y_train[num]))\n",
    "plt.imshow(x_train[num],cmap=plt.get_cmap('gray_r'))\n",
    "plt.show()"
   ]
  },
  {
   "cell_type": "code",
   "execution_count": 17,
   "metadata": {
    "id": "iFNtaYcUnbsj"
   },
   "outputs": [],
   "source": [
    "import numpy as np"
   ]
  },
  {
   "cell_type": "code",
   "execution_count": 18,
   "metadata": {
    "colab": {
     "base_uri": "https://localhost:8080/",
     "height": 383
    },
    "id": "6QR2483jQ_EQ",
    "outputId": "1a4193e5-ce54-4946-9265-b703a93e8fc8"
   },
   "outputs": [
    {
     "data": {
      "image/png": "[encoded data removed]",
      "text/plain": [
       "<Figure size 432x288 with 1 Axes>"
      ]
     },
     "metadata": {
      "needs_background": "light"
     },
     "output_type": "display_data"
    },
    {
     "data": {
      "image/png": "[encoded data removed]",
      "text/plain": [
       "<Figure size 432x288 with 1 Axes>"
      ]
     },
     "metadata": {
      "needs_background": "light"
     },
     "output_type": "display_data"
    },
    {
     "data": {
      "image/png": "[encoded data removed]",
      "text/plain": [
       "<Figure size 432x288 with 1 Axes>"
      ]
     },
     "metadata": {
      "needs_background": "light"
     },
     "output_type": "display_data"
    }
   ],
   "source": [
    "\n",
    "def display_mult_flat(start,stop,label): \n",
    "  images=x_train[start].reshape([1,784]) #784=28*28 將圖片變成一為陣列\n",
    "  for i in range(start+1,stop): #尋找\n",
    "    label2=int(y_train[i]) #取得該筆資料\n",
    "    if label==label2: #判斷是否是我們要找的標籤\n",
    "      images= np.concatenate((images,x_train[i].reshape([1,28*28])))\n",
    "  plt.imshow(images,cmap=plt.get_cmap('gray_r')) #用灰階的方法繪製\n",
    "  plt.show() #顯示圖片\n",
    "display_mult_flat(0,2000,1) # 0-2000,如果是1顯示出來\n",
    "display_mult_flat(0,2000,2) # 0-2000,如果是2顯示出來\n",
    "display_mult_flat(0,2000,3) # 0-2000,如果是3顯示出來"
   ]
  },
  {
   "cell_type": "code",
   "execution_count": 19,
   "metadata": {
    "id": "T_QLTyEhntDa"
   },
   "outputs": [],
   "source": [
    "from sklearn.datasets import load_digits"
   ]
  },
  {
   "cell_type": "code",
   "execution_count": 20,
   "metadata": {
    "colab": {
     "base_uri": "https://localhost:8080/"
    },
    "id": "w80NZJDnUxHM",
    "outputId": "45963642-386b-41c5-eeb1-457bac59071f"
   },
   "outputs": [
    {
     "name": "stdout",
     "output_type": "stream",
     "text": [
      "x_train before reshape: (60000, 28, 28)\n",
      "x_train after reshape (60000, 784)\n"
     ]
    }
   ],
   "source": [
    "#影像的類別數目\n",
    "num_classes=10\n",
    "\n",
    "#輸入的手寫影像辨識度\n",
    "img_rows,img_cols=28,28\n",
    "\n",
    "print('x_train before reshape:',x_train.shape)\n",
    "#將原始資料轉為正確的影像排列方式，輸出(60000,28,28)\n",
    "dim=img_rows*img_cols*1 #784=28*28\n",
    "x_train=x_train.reshape(x_train.shape[0],dim) #改變外型reshape\n",
    "x_test=x_test.reshape(x_test.shape[0],dim)\n",
    "print('x_train after reshape',x_train.shape) #輸出(60000,784)"
   ]
  },
  {
   "cell_type": "code",
   "execution_count": 21,
   "metadata": {
    "colab": {
     "base_uri": "https://localhost:8080/"
    },
    "id": "KlO_xZ1ZV8B7",
    "outputId": "30904c0c-39ec-46a7-b87b-ee12a1d16b8a"
   },
   "outputs": [
    {
     "name": "stdout",
     "output_type": "stream",
     "text": [
      "x_train before div 255: [170 253 253 253 253 253 225 172 253 242 195  64   0   0   0]\n",
      "x_train before div 255 [0.6666667  0.99215686 0.99215686 0.99215686 0.99215686 0.99215686\n",
      " 0.88235295 0.6745098  0.99215686 0.9490196  0.7647059  0.2509804\n",
      " 0.         0.         0.        ]\n"
     ]
    }
   ],
   "source": [
    "#標準化輸入資料\n",
    "print('x_train before div 255:',x_train[0][180:195]) #處理前的部分數據\n",
    "x_train=x_train.astype('float32') #轉換為浮點數\n",
    "x_test=x_test.astype('float32')\n",
    "x_train /=255 #特徵值增強度\n",
    "x_test /=255\n",
    "print('x_train before div 255',x_train[0][180:195]) #處理後的部分數據\n"
   ]
  },
  {
   "cell_type": "code",
   "execution_count": 22,
   "metadata": {
    "colab": {
     "base_uri": "https://localhost:8080/"
    },
    "id": "3E34g1AjYLXh",
    "outputId": "9528c4f5-857b-4dab-db9c-13f2557b2974"
   },
   "outputs": [
    {
     "name": "stdout",
     "output_type": "stream",
     "text": [
      "y_train shape: (60000,)\n",
      "[5 0 4 1 9 2 1 3 1 4]\n",
      "y_train2 to_categorical shape= (60000, 10)\n",
      "[[0. 0. 0. 0. 0. 1. 0. 0. 0. 0.]\n",
      " [1. 0. 0. 0. 0. 0. 0. 0. 0. 0.]\n",
      " [0. 0. 0. 0. 1. 0. 0. 0. 0. 0.]\n",
      " [0. 1. 0. 0. 0. 0. 0. 0. 0. 0.]\n",
      " [0. 0. 0. 0. 0. 0. 0. 0. 0. 1.]\n",
      " [0. 0. 1. 0. 0. 0. 0. 0. 0. 0.]\n",
      " [0. 1. 0. 0. 0. 0. 0. 0. 0. 0.]\n",
      " [0. 0. 0. 1. 0. 0. 0. 0. 0. 0.]\n",
      " [0. 1. 0. 0. 0. 0. 0. 0. 0. 0.]\n",
      " [0. 0. 0. 0. 1. 0. 0. 0. 0. 0.]]\n"
     ]
    }
   ],
   "source": [
    "print('y_train shape:',y_train.shape) #輸出(6000,)\n",
    "print(y_train[:10]) #前10個訓練樣本的標籤答案\n",
    "#將數字轉為one-hot向量\n",
    "category=10\n",
    "y_train2=tf.keras.utils.to_categorical(y_train,category)#轉換為二進制類矩陣\n",
    "y_test2=tf.keras.utils.to_categorical(y_test,category)\n",
    "print(\"y_train2 to_categorical shape=\",y_train2.shape) #輸出(60000,10)\n",
    "print(y_train2[:10])#輸出前10筆\n"
   ]
  },
  {
   "cell_type": "code",
   "execution_count": 23,
   "metadata": {
    "id": "gAETv0guZ5dv"
   },
   "outputs": [],
   "source": [
    "###多層類神經MLP模型"
   ]
  },
  {
   "cell_type": "code",
   "execution_count": 24,
   "metadata": {
    "colab": {
     "base_uri": "https://localhost:8080/"
    },
    "id": "C8nnHPUMdH0s",
    "outputId": "4e9c318f-3c0b-40e0-e5ce-c2d43acfdcd3"
   },
   "outputs": [],
   "source": [
    "# 建立模型\n",
    "model = tf.keras.models.Sequential()  # 聲明順序層\n",
    "# 定義「輸入層」加入模型， 輸入層dim=784 是輸入資料大小\n",
    "\n",
    "# 定義輸出「隱藏層 」的神經元素數量\n",
    "model.add(tf.keras.layers.Dense(units=10,  # 10 個神經元\n",
    "    activation=tf.nn.relu,  #定義激勵函數為 relu\n",
    "    input_dim=dim))  # 784=28*28 輸入層訓練特徵值784個\n",
    "# 隱藏層\n",
    "model.add(tf.keras.layers.Dense(units=10, # 10 個神經元\n",
    "    activation=tf.nn.relu )) #定義激勵函數為 relu\n",
    "# 輸出層\n",
    "model.add(tf.keras.layers.Dense(units=category,\n",
    "    activation=tf.nn.softmax ))\n",
    "model.compile(optimizer=tf.keras.optimizers.Adam(lr=0.001),  # 使用 Adam 移動 0.001 \n",
    "    loss = tf.keras.losses.categorical_crossentropy, # 損失率使用稀疏分類交叉熵\n",
    "    metrics = ['accuracy'])  # 模型在培訓和測試期間要評估的度量列表\n"
   ]
  },
  {
   "cell_type": "code",
   "execution_count": 25,
   "metadata": {
    "colab": {
     "base_uri": "https://localhost:8080/"
    },
    "id": "E9Tp0nFszYmo",
    "outputId": "4ba28b99-708c-43bd-ca4d-6a4ad2f38c22"
   },
   "outputs": [
    {
     "name": "stdout",
     "output_type": "stream",
     "text": [
      "Model: \"sequential\"\n",
      "_________________________________________________________________\n",
      "Layer (type)                 Output Shape              Param #   \n",
      "=================================================================\n",
      "dense (Dense)                (None, 10)                7850      \n",
      "_________________________________________________________________\n",
      "dense_1 (Dense)              (None, 10)                110       \n",
      "_________________________________________________________________\n",
      "dense_2 (Dense)              (None, 10)                110       \n",
      "=================================================================\n",
      "Total params: 8,070\n",
      "Trainable params: 8,070\n",
      "Non-trainable params: 0\n",
      "_________________________________________________________________\n"
     ]
    }
   ],
   "source": [
    "#顯示模型\n",
    "model.summary()"
   ]
  },
  {
   "cell_type": "code",
   "execution_count": 26,
   "metadata": {
    "colab": {
     "base_uri": "https://localhost:8080/"
    },
    "id": "E9lLVBx3kL0s",
    "outputId": "213779a6-6716-4103-f0b7-222ce1e29e6d"
   },
   "outputs": [
    {
     "name": "stdout",
     "output_type": "stream",
     "text": [
      "Epoch 1/200\n",
      "60/60 [==============================] - 0s 7ms/step - loss: 1.9127 - accuracy: 0.3024\n",
      "Epoch 2/200\n",
      "60/60 [==============================] - 0s 6ms/step - loss: 1.1407 - accuracy: 0.6596\n",
      "Epoch 3/200\n",
      "60/60 [==============================] - 0s 6ms/step - loss: 0.6795 - accuracy: 0.8253\n",
      "Epoch 4/200\n",
      "60/60 [==============================] - 0s 7ms/step - loss: 0.5252 - accuracy: 0.8541\n",
      "Epoch 5/200\n",
      "60/60 [==============================] - 1s 9ms/step - loss: 0.4537 - accuracy: 0.8706\n",
      "Epoch 6/200\n",
      "60/60 [==============================] - 0s 8ms/step - loss: 0.4103 - accuracy: 0.8827\n",
      "Epoch 7/200\n",
      "60/60 [==============================] - 1s 9ms/step - loss: 0.3794 - accuracy: 0.8912\n",
      "Epoch 8/200\n",
      "60/60 [==============================] - 0s 8ms/step - loss: 0.3560 - accuracy: 0.8979\n",
      "Epoch 9/200\n",
      "60/60 [==============================] - 0s 8ms/step - loss: 0.3373 - accuracy: 0.9039\n",
      "Epoch 10/200\n",
      "60/60 [==============================] - 0s 7ms/step - loss: 0.3224 - accuracy: 0.9088\n",
      "Epoch 11/200\n",
      "60/60 [==============================] - 0s 8ms/step - loss: 0.3095 - accuracy: 0.9122\n",
      "Epoch 12/200\n",
      "60/60 [==============================] - 0s 7ms/step - loss: 0.2974 - accuracy: 0.9164\n",
      "Epoch 13/200\n",
      "60/60 [==============================] - 1s 8ms/step - loss: 0.2887 - accuracy: 0.9186\n",
      "Epoch 14/200\n",
      "60/60 [==============================] - 0s 8ms/step - loss: 0.2816 - accuracy: 0.9204\n",
      "Epoch 15/200\n",
      "60/60 [==============================] - 0s 7ms/step - loss: 0.2742 - accuracy: 0.9226\n",
      "Epoch 16/200\n",
      "60/60 [==============================] - 0s 7ms/step - loss: 0.2688 - accuracy: 0.9242\n",
      "Epoch 17/200\n",
      "60/60 [==============================] - ETA: 0s - loss: 0.2637 - accuracy: 0.92 - 0s 8ms/step - loss: 0.2636 - accuracy: 0.9254\n",
      "Epoch 18/200\n",
      "60/60 [==============================] - 0s 8ms/step - loss: 0.2591 - accuracy: 0.9269\n",
      "Epoch 19/200\n",
      "60/60 [==============================] - 0s 7ms/step - loss: 0.2549 - accuracy: 0.9285\n",
      "Epoch 20/200\n",
      "60/60 [==============================] - 0s 8ms/step - loss: 0.2516 - accuracy: 0.9291\n",
      "Epoch 21/200\n",
      "60/60 [==============================] - 0s 8ms/step - loss: 0.2477 - accuracy: 0.9303\n",
      "Epoch 22/200\n",
      "60/60 [==============================] - 0s 7ms/step - loss: 0.2445 - accuracy: 0.9304\n",
      "Epoch 23/200\n",
      "60/60 [==============================] - 0s 7ms/step - loss: 0.2415 - accuracy: 0.9319\n",
      "Epoch 24/200\n",
      "60/60 [==============================] - 0s 8ms/step - loss: 0.2388 - accuracy: 0.9327\n",
      "Epoch 25/200\n",
      "60/60 [==============================] - 0s 7ms/step - loss: 0.2360 - accuracy: 0.9328\n",
      "Epoch 26/200\n",
      "60/60 [==============================] - 1s 9ms/step - loss: 0.2340 - accuracy: 0.9335\n",
      "Epoch 27/200\n",
      "60/60 [==============================] - 0s 7ms/step - loss: 0.2307 - accuracy: 0.9347\n",
      "Epoch 28/200\n",
      "60/60 [==============================] - 0s 8ms/step - loss: 0.2292 - accuracy: 0.9350\n",
      "Epoch 29/200\n",
      "60/60 [==============================] - 0s 8ms/step - loss: 0.2271 - accuracy: 0.9352\n",
      "Epoch 30/200\n",
      "60/60 [==============================] - 0s 8ms/step - loss: 0.2245 - accuracy: 0.9365\n",
      "Epoch 31/200\n",
      "60/60 [==============================] - 0s 8ms/step - loss: 0.2227 - accuracy: 0.9371\n",
      "Epoch 32/200\n",
      "60/60 [==============================] - 1s 8ms/step - loss: 0.2208 - accuracy: 0.9376\n",
      "Epoch 33/200\n",
      "60/60 [==============================] - 0s 6ms/step - loss: 0.2190 - accuracy: 0.9380\n",
      "Epoch 34/200\n",
      "60/60 [==============================] - 0s 6ms/step - loss: 0.2176 - accuracy: 0.9383\n",
      "Epoch 35/200\n",
      "60/60 [==============================] - 0s 6ms/step - loss: 0.2155 - accuracy: 0.9388\n",
      "Epoch 36/200\n",
      "60/60 [==============================] - 0s 6ms/step - loss: 0.2132 - accuracy: 0.9399\n",
      "Epoch 37/200\n",
      "60/60 [==============================] - 0s 7ms/step - loss: 0.2118 - accuracy: 0.9397\n",
      "Epoch 38/200\n",
      "60/60 [==============================] - 0s 8ms/step - loss: 0.2107 - accuracy: 0.9403\n",
      "Epoch 39/200\n",
      "60/60 [==============================] - 0s 8ms/step - loss: 0.2093 - accuracy: 0.9402\n",
      "Epoch 40/200\n",
      "60/60 [==============================] - 0s 7ms/step - loss: 0.2080 - accuracy: 0.9414\n",
      "Epoch 41/200\n",
      "60/60 [==============================] - 0s 6ms/step - loss: 0.2062 - accuracy: 0.9417\n",
      "Epoch 42/200\n",
      "60/60 [==============================] - 0s 6ms/step - loss: 0.2056 - accuracy: 0.9414\n",
      "Epoch 43/200\n",
      "60/60 [==============================] - 0s 7ms/step - loss: 0.2044 - accuracy: 0.9418\n",
      "Epoch 44/200\n",
      "60/60 [==============================] - 0s 8ms/step - loss: 0.2029 - accuracy: 0.9421\n",
      "Epoch 45/200\n",
      "60/60 [==============================] - 0s 7ms/step - loss: 0.2018 - accuracy: 0.9428\n",
      "Epoch 46/200\n",
      "60/60 [==============================] - 0s 8ms/step - loss: 0.2010 - accuracy: 0.9427\n",
      "Epoch 47/200\n",
      "60/60 [==============================] - 0s 7ms/step - loss: 0.1991 - accuracy: 0.9431\n",
      "Epoch 48/200\n",
      "60/60 [==============================] - 0s 7ms/step - loss: 0.1982 - accuracy: 0.9439\n",
      "Epoch 49/200\n",
      "60/60 [==============================] - 0s 8ms/step - loss: 0.1976 - accuracy: 0.9433\n",
      "Epoch 50/200\n",
      "60/60 [==============================] - 0s 7ms/step - loss: 0.1962 - accuracy: 0.9441\n",
      "Epoch 51/200\n",
      "60/60 [==============================] - 0s 8ms/step - loss: 0.1961 - accuracy: 0.9440\n",
      "Epoch 52/200\n",
      "60/60 [==============================] - 0s 7ms/step - loss: 0.1943 - accuracy: 0.9448\n",
      "Epoch 53/200\n",
      "60/60 [==============================] - 0s 6ms/step - loss: 0.1937 - accuracy: 0.9444\n",
      "Epoch 54/200\n",
      "60/60 [==============================] - 0s 6ms/step - loss: 0.1924 - accuracy: 0.9451\n",
      "Epoch 55/200\n",
      "60/60 [==============================] - 0s 6ms/step - loss: 0.1917 - accuracy: 0.9453\n",
      "Epoch 56/200\n",
      "60/60 [==============================] - 0s 6ms/step - loss: 0.1913 - accuracy: 0.9457\n",
      "Epoch 57/200\n",
      "60/60 [==============================] - 0s 6ms/step - loss: 0.1894 - accuracy: 0.9463\n",
      "Epoch 58/200\n",
      "60/60 [==============================] - 0s 6ms/step - loss: 0.1896 - accuracy: 0.9459\n",
      "Epoch 59/200\n",
      "60/60 [==============================] - 0s 6ms/step - loss: 0.1880 - accuracy: 0.9463\n",
      "Epoch 60/200\n",
      "60/60 [==============================] - 0s 7ms/step - loss: 0.1869 - accuracy: 0.9466\n",
      "Epoch 61/200\n",
      "60/60 [==============================] - 1s 8ms/step - loss: 0.1866 - accuracy: 0.9464\n",
      "Epoch 62/200\n",
      "60/60 [==============================] - 0s 8ms/step - loss: 0.1860 - accuracy: 0.9465: 0s - loss: 0.1855 - accu\n",
      "Epoch 63/200\n",
      "60/60 [==============================] - 0s 7ms/step - loss: 0.1850 - accuracy: 0.9470\n",
      "Epoch 64/200\n",
      "60/60 [==============================] - 0s 6ms/step - loss: 0.1843 - accuracy: 0.9473\n",
      "Epoch 65/200\n",
      "60/60 [==============================] - 0s 6ms/step - loss: 0.1835 - accuracy: 0.9477\n",
      "Epoch 66/200\n",
      "60/60 [==============================] - 0s 6ms/step - loss: 0.1825 - accuracy: 0.9479\n",
      "Epoch 67/200\n",
      "60/60 [==============================] - 0s 6ms/step - loss: 0.1820 - accuracy: 0.9482\n",
      "Epoch 68/200\n",
      "60/60 [==============================] - 0s 7ms/step - loss: 0.1812 - accuracy: 0.9485\n",
      "Epoch 69/200\n",
      "60/60 [==============================] - 0s 6ms/step - loss: 0.1809 - accuracy: 0.9483\n",
      "Epoch 70/200\n",
      "60/60 [==============================] - 1s 8ms/step - loss: 0.1800 - accuracy: 0.9485\n",
      "Epoch 71/200\n",
      "60/60 [==============================] - 0s 6ms/step - loss: 0.1792 - accuracy: 0.9493\n",
      "Epoch 72/200\n",
      "60/60 [==============================] - 0s 6ms/step - loss: 0.1790 - accuracy: 0.9485\n",
      "Epoch 73/200\n",
      "60/60 [==============================] - 0s 6ms/step - loss: 0.1791 - accuracy: 0.9486\n",
      "Epoch 74/200\n",
      "60/60 [==============================] - 0s 6ms/step - loss: 0.1779 - accuracy: 0.9488\n",
      "Epoch 75/200\n",
      "60/60 [==============================] - 0s 6ms/step - loss: 0.1779 - accuracy: 0.9492\n",
      "Epoch 76/200\n",
      "60/60 [==============================] - 0s 6ms/step - loss: 0.1771 - accuracy: 0.9496\n",
      "Epoch 77/200\n",
      "60/60 [==============================] - 0s 6ms/step - loss: 0.1757 - accuracy: 0.9495\n",
      "Epoch 78/200\n",
      "60/60 [==============================] - 0s 6ms/step - loss: 0.1753 - accuracy: 0.9500\n",
      "Epoch 79/200\n",
      "60/60 [==============================] - 0s 6ms/step - loss: 0.1747 - accuracy: 0.9499\n",
      "Epoch 80/200\n",
      "60/60 [==============================] - 0s 7ms/step - loss: 0.1741 - accuracy: 0.9503\n",
      "Epoch 81/200\n",
      "60/60 [==============================] - 0s 7ms/step - loss: 0.1739 - accuracy: 0.9500\n",
      "Epoch 82/200\n",
      "60/60 [==============================] - 0s 8ms/step - loss: 0.1732 - accuracy: 0.9506\n",
      "Epoch 83/200\n",
      "60/60 [==============================] - 1s 9ms/step - loss: 0.1728 - accuracy: 0.9512\n",
      "Epoch 84/200\n",
      "60/60 [==============================] - 0s 8ms/step - loss: 0.1720 - accuracy: 0.9512\n",
      "Epoch 85/200\n",
      "60/60 [==============================] - 1s 9ms/step - loss: 0.1723 - accuracy: 0.9510\n",
      "Epoch 86/200\n",
      "60/60 [==============================] - 0s 7ms/step - loss: 0.1723 - accuracy: 0.9501\n",
      "Epoch 87/200\n",
      "60/60 [==============================] - 1s 9ms/step - loss: 0.1705 - accuracy: 0.9514\n",
      "Epoch 88/200\n",
      "60/60 [==============================] - 0s 8ms/step - loss: 0.1702 - accuracy: 0.9514\n",
      "Epoch 89/200\n",
      "60/60 [==============================] - 1s 9ms/step - loss: 0.1701 - accuracy: 0.9515\n",
      "Epoch 90/200\n",
      "60/60 [==============================] - 1s 8ms/step - loss: 0.1695 - accuracy: 0.9512\n",
      "Epoch 91/200\n",
      "60/60 [==============================] - 0s 7ms/step - loss: 0.1693 - accuracy: 0.9513\n",
      "Epoch 92/200\n",
      "60/60 [==============================] - 0s 8ms/step - loss: 0.1683 - accuracy: 0.9517\n",
      "Epoch 93/200\n",
      "60/60 [==============================] - 1s 9ms/step - loss: 0.1686 - accuracy: 0.9520\n",
      "Epoch 94/200\n",
      "60/60 [==============================] - 0s 7ms/step - loss: 0.1676 - accuracy: 0.9522\n",
      "Epoch 95/200\n",
      "60/60 [==============================] - 0s 7ms/step - loss: 0.1681 - accuracy: 0.9521\n",
      "Epoch 96/200\n",
      "60/60 [==============================] - 0s 8ms/step - loss: 0.1668 - accuracy: 0.9528\n",
      "Epoch 97/200\n",
      "60/60 [==============================] - 1s 9ms/step - loss: 0.1667 - accuracy: 0.9527\n",
      "Epoch 98/200\n",
      "60/60 [==============================] - 0s 8ms/step - loss: 0.1661 - accuracy: 0.9525\n",
      "Epoch 99/200\n",
      "60/60 [==============================] - 0s 8ms/step - loss: 0.1657 - accuracy: 0.9527\n",
      "Epoch 100/200\n",
      "60/60 [==============================] - 0s 7ms/step - loss: 0.1657 - accuracy: 0.9530\n",
      "Epoch 101/200\n",
      "60/60 [==============================] - 0s 7ms/step - loss: 0.1649 - accuracy: 0.9530\n",
      "Epoch 102/200\n",
      "60/60 [==============================] - 0s 7ms/step - loss: 0.1640 - accuracy: 0.9536\n",
      "Epoch 103/200\n",
      "60/60 [==============================] - 0s 8ms/step - loss: 0.1636 - accuracy: 0.9537\n",
      "Epoch 104/200\n",
      "60/60 [==============================] - 0s 7ms/step - loss: 0.1634 - accuracy: 0.9532\n",
      "Epoch 105/200\n",
      "60/60 [==============================] - 0s 7ms/step - loss: 0.1630 - accuracy: 0.9532\n",
      "Epoch 106/200\n",
      "60/60 [==============================] - 0s 7ms/step - loss: 0.1629 - accuracy: 0.9541\n",
      "Epoch 107/200\n",
      "60/60 [==============================] - 0s 7ms/step - loss: 0.1631 - accuracy: 0.9534\n",
      "Epoch 108/200\n",
      "60/60 [==============================] - 0s 6ms/step - loss: 0.1623 - accuracy: 0.9535\n",
      "Epoch 109/200\n",
      "60/60 [==============================] - 0s 6ms/step - loss: 0.1622 - accuracy: 0.9535\n",
      "Epoch 110/200\n",
      "60/60 [==============================] - 0s 8ms/step - loss: 0.1622 - accuracy: 0.9536\n",
      "Epoch 111/200\n",
      "60/60 [==============================] - 0s 6ms/step - loss: 0.1609 - accuracy: 0.9537\n",
      "Epoch 112/200\n",
      "60/60 [==============================] - 0s 8ms/step - loss: 0.1614 - accuracy: 0.9539: 0s - loss: 0.1504 - ac\n",
      "Epoch 113/200\n",
      "60/60 [==============================] - 0s 6ms/step - loss: 0.1612 - accuracy: 0.9539\n",
      "Epoch 114/200\n",
      "60/60 [==============================] - 0s 8ms/step - loss: 0.1602 - accuracy: 0.9547: 0s - loss: 0.1613 - accu\n",
      "Epoch 115/200\n",
      "60/60 [==============================] - 0s 8ms/step - loss: 0.1601 - accuracy: 0.9539\n",
      "Epoch 116/200\n",
      "60/60 [==============================] - 0s 8ms/step - loss: 0.1593 - accuracy: 0.9540\n",
      "Epoch 117/200\n",
      "60/60 [==============================] - 0s 7ms/step - loss: 0.1595 - accuracy: 0.9547\n",
      "Epoch 118/200\n",
      "60/60 [==============================] - 0s 7ms/step - loss: 0.1589 - accuracy: 0.9549\n",
      "Epoch 119/200\n",
      "60/60 [==============================] - 0s 8ms/step - loss: 0.1588 - accuracy: 0.9548\n",
      "Epoch 120/200\n",
      "60/60 [==============================] - 0s 7ms/step - loss: 0.1588 - accuracy: 0.9545\n",
      "Epoch 121/200\n",
      "60/60 [==============================] - 0s 8ms/step - loss: 0.1590 - accuracy: 0.9543\n",
      "Epoch 122/200\n",
      "60/60 [==============================] - 0s 7ms/step - loss: 0.1578 - accuracy: 0.9552\n",
      "Epoch 123/200\n",
      "60/60 [==============================] - 0s 8ms/step - loss: 0.1579 - accuracy: 0.9547\n",
      "Epoch 124/200\n",
      "60/60 [==============================] - 0s 7ms/step - loss: 0.1581 - accuracy: 0.9548\n",
      "Epoch 125/200\n",
      "60/60 [==============================] - 0s 8ms/step - loss: 0.1573 - accuracy: 0.9553\n",
      "Epoch 126/200\n",
      "60/60 [==============================] - 0s 6ms/step - loss: 0.1564 - accuracy: 0.9555\n",
      "Epoch 127/200\n",
      "60/60 [==============================] - 0s 8ms/step - loss: 0.1564 - accuracy: 0.9553\n",
      "Epoch 128/200\n",
      "60/60 [==============================] - 1s 9ms/step - loss: 0.1559 - accuracy: 0.9558\n",
      "Epoch 129/200\n",
      "60/60 [==============================] - 0s 7ms/step - loss: 0.1569 - accuracy: 0.9550\n",
      "Epoch 130/200\n",
      "60/60 [==============================] - 0s 8ms/step - loss: 0.1555 - accuracy: 0.9558\n",
      "Epoch 131/200\n",
      "60/60 [==============================] - 0s 7ms/step - loss: 0.1564 - accuracy: 0.9555\n",
      "Epoch 132/200\n",
      "60/60 [==============================] - 0s 8ms/step - loss: 0.1550 - accuracy: 0.9559\n",
      "Epoch 133/200\n",
      "60/60 [==============================] - 0s 8ms/step - loss: 0.1549 - accuracy: 0.9559\n",
      "Epoch 134/200\n",
      "60/60 [==============================] - 0s 8ms/step - loss: 0.1548 - accuracy: 0.9561\n",
      "Epoch 135/200\n",
      "60/60 [==============================] - 0s 8ms/step - loss: 0.1545 - accuracy: 0.9560\n",
      "Epoch 136/200\n",
      "60/60 [==============================] - 0s 8ms/step - loss: 0.1548 - accuracy: 0.9556\n",
      "Epoch 137/200\n",
      "60/60 [==============================] - 0s 8ms/step - loss: 0.1541 - accuracy: 0.9565\n",
      "Epoch 138/200\n",
      "60/60 [==============================] - 0s 8ms/step - loss: 0.1549 - accuracy: 0.9560\n",
      "Epoch 139/200\n",
      "60/60 [==============================] - 0s 8ms/step - loss: 0.1533 - accuracy: 0.9569\n",
      "Epoch 140/200\n",
      "60/60 [==============================] - 0s 7ms/step - loss: 0.1531 - accuracy: 0.9566\n",
      "Epoch 141/200\n",
      "60/60 [==============================] - 0s 5ms/step - loss: 0.1527 - accuracy: 0.9564\n",
      "Epoch 142/200\n",
      "60/60 [==============================] - 0s 6ms/step - loss: 0.1528 - accuracy: 0.9565\n",
      "Epoch 143/200\n",
      "60/60 [==============================] - 0s 5ms/step - loss: 0.1528 - accuracy: 0.9563\n",
      "Epoch 144/200\n",
      "60/60 [==============================] - 0s 6ms/step - loss: 0.1526 - accuracy: 0.9562\n",
      "Epoch 145/200\n",
      "60/60 [==============================] - 0s 6ms/step - loss: 0.1520 - accuracy: 0.9571\n",
      "Epoch 146/200\n",
      "60/60 [==============================] - 0s 6ms/step - loss: 0.1516 - accuracy: 0.9570\n",
      "Epoch 147/200\n",
      "60/60 [==============================] - 0s 5ms/step - loss: 0.1517 - accuracy: 0.9565\n",
      "Epoch 148/200\n",
      "60/60 [==============================] - 0s 5ms/step - loss: 0.1514 - accuracy: 0.9569\n",
      "Epoch 149/200\n",
      "60/60 [==============================] - 0s 6ms/step - loss: 0.1520 - accuracy: 0.9561\n",
      "Epoch 150/200\n",
      "60/60 [==============================] - 0s 6ms/step - loss: 0.1513 - accuracy: 0.9570\n",
      "Epoch 151/200\n",
      "60/60 [==============================] - 0s 7ms/step - loss: 0.1514 - accuracy: 0.9573\n",
      "Epoch 152/200\n",
      "60/60 [==============================] - 0s 7ms/step - loss: 0.1508 - accuracy: 0.9572\n",
      "Epoch 153/200\n",
      "60/60 [==============================] - 0s 7ms/step - loss: 0.1504 - accuracy: 0.9570\n",
      "Epoch 154/200\n",
      "60/60 [==============================] - 0s 7ms/step - loss: 0.1507 - accuracy: 0.9571\n",
      "Epoch 155/200\n",
      "60/60 [==============================] - 0s 7ms/step - loss: 0.1499 - accuracy: 0.9570\n",
      "Epoch 156/200\n",
      "60/60 [==============================] - 0s 8ms/step - loss: 0.1502 - accuracy: 0.9571\n",
      "Epoch 157/200\n",
      "60/60 [==============================] - 0s 7ms/step - loss: 0.1492 - accuracy: 0.9571\n",
      "Epoch 158/200\n",
      "60/60 [==============================] - 0s 7ms/step - loss: 0.1495 - accuracy: 0.9572\n",
      "Epoch 159/200\n",
      "60/60 [==============================] - 0s 7ms/step - loss: 0.1490 - accuracy: 0.9571\n",
      "Epoch 160/200\n",
      "60/60 [==============================] - 0s 7ms/step - loss: 0.1493 - accuracy: 0.9571\n",
      "Epoch 161/200\n",
      "60/60 [==============================] - 0s 7ms/step - loss: 0.1486 - accuracy: 0.9577\n",
      "Epoch 162/200\n",
      "60/60 [==============================] - 0s 7ms/step - loss: 0.1487 - accuracy: 0.9578\n",
      "Epoch 163/200\n",
      "60/60 [==============================] - 0s 7ms/step - loss: 0.1488 - accuracy: 0.9570\n",
      "Epoch 164/200\n",
      "60/60 [==============================] - 0s 8ms/step - loss: 0.1481 - accuracy: 0.9579\n",
      "Epoch 165/200\n",
      "60/60 [==============================] - 0s 7ms/step - loss: 0.1484 - accuracy: 0.9574\n",
      "Epoch 166/200\n",
      "60/60 [==============================] - 0s 7ms/step - loss: 0.1476 - accuracy: 0.9581\n",
      "Epoch 167/200\n",
      "60/60 [==============================] - 0s 8ms/step - loss: 0.1478 - accuracy: 0.9580\n",
      "Epoch 168/200\n",
      "60/60 [==============================] - 0s 7ms/step - loss: 0.1469 - accuracy: 0.9579\n",
      "Epoch 169/200\n",
      "60/60 [==============================] - 0s 8ms/step - loss: 0.1476 - accuracy: 0.9581\n",
      "Epoch 170/200\n",
      "60/60 [==============================] - 0s 8ms/step - loss: 0.1473 - accuracy: 0.9581\n",
      "Epoch 171/200\n",
      "60/60 [==============================] - 0s 8ms/step - loss: 0.1473 - accuracy: 0.9577\n",
      "Epoch 172/200\n",
      "60/60 [==============================] - 0s 8ms/step - loss: 0.1469 - accuracy: 0.9581\n",
      "Epoch 173/200\n",
      "60/60 [==============================] - 1s 9ms/step - loss: 0.1463 - accuracy: 0.9582\n",
      "Epoch 174/200\n",
      "60/60 [==============================] - 0s 7ms/step - loss: 0.1469 - accuracy: 0.9583\n",
      "Epoch 175/200\n",
      "60/60 [==============================] - 0s 8ms/step - loss: 0.1468 - accuracy: 0.9581\n",
      "Epoch 176/200\n",
      "60/60 [==============================] - 0s 8ms/step - loss: 0.1464 - accuracy: 0.9581\n",
      "Epoch 177/200\n",
      "60/60 [==============================] - 0s 8ms/step - loss: 0.1457 - accuracy: 0.9586\n",
      "Epoch 178/200\n",
      "60/60 [==============================] - 0s 6ms/step - loss: 0.1464 - accuracy: 0.9583\n",
      "Epoch 179/200\n",
      "60/60 [==============================] - 0s 6ms/step - loss: 0.1461 - accuracy: 0.9580\n",
      "Epoch 180/200\n",
      "60/60 [==============================] - 0s 6ms/step - loss: 0.1460 - accuracy: 0.9584\n",
      "Epoch 181/200\n",
      "60/60 [==============================] - 0s 6ms/step - loss: 0.1453 - accuracy: 0.9584\n",
      "Epoch 182/200\n",
      "60/60 [==============================] - 0s 6ms/step - loss: 0.1452 - accuracy: 0.9581\n",
      "Epoch 183/200\n",
      "60/60 [==============================] - 0s 6ms/step - loss: 0.1451 - accuracy: 0.9587\n",
      "Epoch 184/200\n",
      "60/60 [==============================] - 0s 5ms/step - loss: 0.1447 - accuracy: 0.9589\n",
      "Epoch 185/200\n",
      "60/60 [==============================] - 0s 6ms/step - loss: 0.1448 - accuracy: 0.9586\n",
      "Epoch 186/200\n",
      "60/60 [==============================] - 0s 6ms/step - loss: 0.1452 - accuracy: 0.9589\n",
      "Epoch 187/200\n",
      "60/60 [==============================] - 0s 7ms/step - loss: 0.1445 - accuracy: 0.9586\n",
      "Epoch 188/200\n",
      "60/60 [==============================] - 1s 8ms/step - loss: 0.1444 - accuracy: 0.9589\n",
      "Epoch 189/200\n",
      "60/60 [==============================] - 0s 7ms/step - loss: 0.1445 - accuracy: 0.9585\n",
      "Epoch 190/200\n",
      "60/60 [==============================] - 1s 8ms/step - loss: 0.1444 - accuracy: 0.9592\n",
      "Epoch 191/200\n",
      "60/60 [==============================] - 1s 8ms/step - loss: 0.1436 - accuracy: 0.9590\n",
      "Epoch 192/200\n",
      "60/60 [==============================] - 0s 8ms/step - loss: 0.1435 - accuracy: 0.9592\n",
      "Epoch 193/200\n",
      "60/60 [==============================] - 1s 8ms/step - loss: 0.1437 - accuracy: 0.9585\n",
      "Epoch 194/200\n",
      "60/60 [==============================] - 0s 8ms/step - loss: 0.1436 - accuracy: 0.9594\n",
      "Epoch 195/200\n",
      "60/60 [==============================] - 1s 8ms/step - loss: 0.1436 - accuracy: 0.9588\n",
      "Epoch 196/200\n",
      "60/60 [==============================] - 0s 8ms/step - loss: 0.1427 - accuracy: 0.9592\n",
      "Epoch 197/200\n",
      "60/60 [==============================] - 1s 9ms/step - loss: 0.1427 - accuracy: 0.9596\n",
      "Epoch 198/200\n",
      "60/60 [==============================] - 0s 7ms/step - loss: 0.1426 - accuracy: 0.9594\n",
      "Epoch 199/200\n",
      "60/60 [==============================] - 0s 8ms/step - loss: 0.1427 - accuracy: 0.9589\n",
      "Epoch 200/200\n",
      "60/60 [==============================] - 0s 8ms/step - loss: 0.1425 - accuracy: 0.9593\n"
     ]
    }
   ],
   "source": [
    "# 訓練模型\n",
    "history=model.fit(x_train, y_train2,    #進行訓練的因和果的資料\n",
    "          batch_size=1000,                              #設定每次訓練的筆數\n",
    "          epochs=200,                       #設定訓練的次數，也就是機器學習的次數\n",
    "          verbose=1)"
   ]
  },
  {
   "cell_type": "code",
   "execution_count": 27,
   "metadata": {
    "colab": {
     "base_uri": "https://localhost:8080/",
     "height": 422
    },
    "id": "YqAoob__dMaz",
    "outputId": "e7ada480-5479-4ee8-ebb0-873f686016e7"
   },
   "outputs": [
    {
     "name": "stdout",
     "output_type": "stream",
     "text": [
      "79/79 [==============================] - 0s 3ms/step - loss: 0.2190 - accuracy: 0.9417\n",
      "score: [0.21902109682559967, 0.9416999816894531]\n",
      "Ans: 7 2 1 0\n",
      "WARNING:tensorflow:From <ipython-input-27-67d403073606>:6: Sequential.predict_classes (from tensorflow.python.keras.engine.sequential) is deprecated and will be removed after 2021-01-01.\n",
      "Instructions for updating:\n",
      "Please use instead:* `np.argmax(model.predict(x), axis=-1)`,   if your model does multi-class classification   (e.g. if it uses a `softmax` last-layer activation).* `(model.predict(x) > 0.5).astype(\"int32\")`,   if your model does binary classification   (e.g. if it uses a `sigmoid` last-layer activation).\n",
      "predict_classes: [7 2 1 0 4 1 4 9 6 9]\n",
      "y_test [7 2 1 0 4 1 4 9 5 9]\n"
     ]
    }
   ],
   "source": [
    "\n",
    "# 測試\n",
    "score = model.evaluate(x_test, y_test2, batch_size = 128) # 計算測試正確率\n",
    "print(\"score:\", score) # 輸出測試正確率\n",
    "predict = model.predict(x_test) # 取得每一個結果的機率\n",
    "print(\"Ans:\", np.argmax(predict[0]), np.argmax(predict[1]), np.argmax(predict[2]), np.argmax(predict[3])) # 取得預測答案1\n",
    "predict2 = model.predict_classes(x_test[:10]) # 取得預測答案2\n",
    "print(\"predict_classes:\", predict2[:10]) # 輸出預測答案2\n",
    "print(\"y_test\", y_test[:10]) # 實際測試的結果"
   ]
  },
  {
   "cell_type": "code",
   "execution_count": null,
   "metadata": {},
   "outputs": [],
   "source": []
  }
 ],
 "metadata": {
  "accelerator": "GPU",
  "colab": {
   "collapsed_sections": [],
   "name": "0519.ipynb",
   "provenance": []
  },
  "kernelspec": {
   "display_name": "Python 3",
   "language": "python",
   "name": "python3"
  },
  "language_info": {
   "codemirror_mode": {
    "name": "ipython",
    "version": 3
   },
   "file_extension": ".py",
   "mimetype": "text/x-python",
   "name": "python",
   "nbconvert_exporter": "python",
   "pygments_lexer": "ipython3",
   "version": "3.8.3"
  }
 },
 "nbformat": 4,
 "nbformat_minor": 1
}
