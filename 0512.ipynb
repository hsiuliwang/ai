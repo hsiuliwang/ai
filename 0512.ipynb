{
 "cells": [
  {
   "cell_type": "code",
   "execution_count": 11,
   "id": "5f8fc05b",
   "metadata": {},
   "outputs": [
    {
     "name": "stdout",
     "output_type": "stream",
     "text": [
      "集群中心的座標: [[2.1 2.1]\n",
      " [1.1 1.1]]\n",
      "預測: [1 1 1 0 0 0]\n",
      "實際: [1, 1, 1, 0, 0, 0]\n",
      "預測[1,1],[2.3,2.1]: [1 0]\n"
     ]
    },
    {
     "data": {
      "image/png": "[encoded data removed]",
      "text/plain": [
       "<Figure size 432x288 with 1 Axes>"
      ]
     },
     "metadata": {},
     "output_type": "display_data"
    }
   ],
   "source": [
    "import numpy as np\n",
    "\n",
    "from sklearn.model_selection import train_test_split ##匯入k-means 函式庫\n",
    "from sklearn.cluster import KMeans\n",
    "from time import time \n",
    "\n",
    "import matplotlib.pyplot as plt\n",
    "\n",
    "from sklearn import metrics\n",
    "\n",
    "X=np.array([[1,1],[1.1,1.1],[1.2,1.2],[2,2],[2.1,2.1],[2.2,2.2]])\n",
    "y=[1,1,1,0,0,0]\n",
    "kmeans = KMeans(n_clusters=2,random_state=0).fit(X)#KMeans演算法 指定2類資料\n",
    "print(\"集群中心的座標:\",kmeans.cluster_centers_)#取得集群中心的座標\n",
    "print(\"預測:\",kmeans.predict(X)) #預測\n",
    "print(\"實際:\",y)#真實答案\n",
    "print(\"預測[1,1],[2.3,2.1]:\",kmeans.predict([[1,1],[2.3,2.1]]))#預測資料\n",
    "\n",
    "plt.axis([0,3,0,3])#用圖片顯示\n",
    "plt.plot(X[:3,0],X[:3,1],'yx')#黃色點\n",
    "plt.plot(X[3:,0],X[3:,1],'g')#綠色點\n",
    "plt.plot(kmeans.cluster_centers_[:,0],kmeans.cluster_centers_[:,1],'ro')#顯示中心點\n",
    "plt.xticks(())\n",
    "plt.yticks(())\n",
    "plt.show()"
   ]
  },
  {
   "cell_type": "code",
   "execution_count": 16,
   "id": "6902d15a",
   "metadata": {},
   "outputs": [
    {
     "name": "stdout",
     "output_type": "stream",
     "text": [
      "實際 [2 0 0 0 0 0 1 2 1 0 2 0 1 0 2 2 1 1 0 2 1 0 1 2 2 2 1 0 0 1 1 0 1 0 1 1 0\n",
      " 1 2 1 1 1 2 0 2 1 2 1 0 2 0 1 1 1 2 2 0 2 0 2 0 1 0 1 0 1 1 0 1 2 0 0 2 2\n",
      " 1 0 2 0 2 2 1 2 0 0 2 1 2 2 1 1 1 0 2 1 0 2 0 1 1 0 2 1 1 2 2 1 0 0 0 1 1\n",
      " 0 1 2 2 2 2 2 2 0]\n",
      "預測 [2 1 1 1 1 1 0 2 0 1 0 1 0 1 0 2 0 0 1 2 0 1 0 2 2 2 0 1 1 0 0 1 0 1 0 0 1\n",
      " 0 0 0 0 0 2 1 2 0 2 0 1 2 1 2 0 0 2 2 1 2 1 0 1 0 1 0 1 0 0 1 0 0 1 1 0 2\n",
      " 2 1 2 1 2 0 0 2 1 1 2 0 0 2 0 0 0 1 0 0 1 2 1 0 0 1 0 0 0 0 2 0 1 1 1 0 0\n",
      " 1 0 2 2 2 2 2 0 1]\n",
      "調整 [2 1 1 1 1 1 0 2 0 1 2 1 0 1 2 2 0 0 1 2 0 1 0 2 2 2 0 1 1 0 0 1 0 1 0 0 1\n",
      " 0 2 0 0 0 2 1 2 0 2 0 1 2 1 0 0 0 2 2 1 2 1 2 1 0 1 0 1 0 0 1 0 2 1 1 2 2\n",
      " 0 1 2 1 2 2 0 2 1 1 2 0 2 2 0 0 0 1 2 0 1 2 1 0 0 1 2 0 0 2 2 0 1 1 1 0 0\n",
      " 1 0 2 2 2 2 2 2 1]\n",
      "準確率0.883333\n"
     ]
    }
   ],
   "source": [
    "import matplotlib.pyplot as plt\n",
    "import numpy as np\n",
    "from sklearn import datasets\n",
    "from sklearn.model_selection import train_test_split ##匯入k-means 函式庫\n",
    "from sklearn.cluster import KMeans\n",
    "from sklearn import metrics\n",
    "\n",
    "#取得花資料\n",
    "iris=datasets.load_iris()\n",
    "##拆分資料80:20，訓練與測試用 2類標籤答案\n",
    "iris_X_train,iris_X_test,iris_y_train,iris_y_test=train_test_split(iris.data,iris.target,test_size=0.2)\n",
    "##KMeans 演算法 2類標籤答案\n",
    "kmeans=KMeans(n_clusters=3) ##修改成3 較準\n",
    "kmeans_fit=kmeans.fit(iris_X_train) ###訓練，沒有標籤答案\n",
    "\n",
    "print(\"實際\",iris_y_train)##顯示標籤答案\n",
    "print(\"預測\",kmeans_fit.labels_)##顯示預測答案\n",
    "\n",
    "iris_y_train[iris_y_train==1]=11\n",
    "iris_y_train[iris_y_train==0]=1\n",
    "iris_y_train[iris_y_train==11]=0\n",
    "print(\"調整\",iris_y_train)#顯示調整後的預測\n",
    "\n",
    "score=metrics.accuracy_score(iris_y_train,kmeans.predict(iris_X_train))\n",
    "\n",
    "print('準確率{0:f}'.format(score))#顯示準確率\n",
    "\n"
   ]
  },
  {
   "cell_type": "code",
   "execution_count": 15,
   "id": "e7f6c075",
   "metadata": {},
   "outputs": [
    {
     "data": {
      "image/png": "[encoded data removed]",
      "text/plain": [
       "<Figure size 432x288 with 1 Axes>"
      ]
     },
     "metadata": {
      "needs_background": "light"
     },
     "output_type": "display_data"
    }
   ],
   "source": [
    "import matplotlib.pyplot as plt\n",
    "import numpy as np\n",
    "from sklearn import datasets\n",
    "from sklearn.model_selection import train_test_split ##匯入k-means 函式庫\n",
    "from sklearn.cluster import KMeans\n",
    "from sklearn import metrics\n",
    "\n",
    "#Load the diabetes dataset\n",
    "iris=datasets.load_iris()\n",
    "\n",
    "iris_X_train,iris_X_test,iris_y_train,iris_y_test=train_test_split(iris.data,iris.target,test_size=0.2)\n",
    "\n",
    "#KMeans 演算法\n",
    "kmeans =KMeans(n_clusters=3)\n",
    "kmeans.fit(iris_X_train)\n",
    "y_predict=kmeans.predict(iris_X_train)\n",
    "\n",
    "x1=iris_X_train[:,0]#花萼長度\n",
    "y1=iris_X_train[:,1]#花萼寬度\n",
    "plt.scatter(x1,y1,c=y_predict,cmap='viridis')#畫每一筆位置\n",
    "centers=kmeans.cluster_centers_ #每個分類中心點\n",
    "plt.scatter(centers[:,0],centers[:,1],c='black',s=200,alpha=0.5)#劃出中心點\n",
    "plt.show()#顯示圖片"
   ]
  },
  {
   "cell_type": "code",
   "execution_count": null,
   "id": "44f55bf7",
   "metadata": {},
   "outputs": [],
   "source": []
  }
 ],
 "metadata": {
  "kernelspec": {
   "display_name": "Python 3",
   "language": "python",
   "name": "python3"
  },
  "language_info": {
   "codemirror_mode": {
    "name": "ipython",
    "version": 3
   },
   "file_extension": ".py",
   "mimetype": "text/x-python",
   "name": "python",
   "nbconvert_exporter": "python",
   "pygments_lexer": "ipython3",
   "version": "3.6.12"
  }
 },
 "nbformat": 4,
 "nbformat_minor": 5
}
