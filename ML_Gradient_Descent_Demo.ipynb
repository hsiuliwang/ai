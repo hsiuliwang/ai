{
  "nbformat": 4,
  "nbformat_minor": 0,
  "metadata": {
    "colab": {
      "name": "ML_Gradient Descent Demo.ipynb",
      "provenance": [],
      "authorship_tag": "ABX9TyPL2//4Gz2lazDtF+w7nWfW",
      "include_colab_link": true
    },
    "kernelspec": {
      "name": "python3",
      "display_name": "Python 3"
    },
    "language_info": {
      "name": "python"
    }
  },
  "cells": [
    {
      "cell_type": "markdown",
      "metadata": {
        "id": "view-in-github",
        "colab_type": "text"
      },
      "source": [
        "<a href=\"https://colab.research.google.com/github/hsiuliwang/ai/blob/main/ML_Gradient_Descent_Demo.ipynb\" target=\"_parent\"><img src=\"https://colab.research.google.com/assets/colab-badge.svg\" alt=\"Open In Colab\"/></a>"
      ]
    },
    {
      "cell_type": "code",
      "metadata": {
        "id": "WoBjZPV2y5HS"
      },
      "source": [
        "import numpy as np\n",
        "import matplotlib.pyplot as plt"
      ],
      "execution_count": 19,
      "outputs": []
    },
    {
      "cell_type": "code",
      "metadata": {
        "id": "tuAEdZtAqTVK"
      },
      "source": [
        "x_data=[338.,333.,328.,207.,226.,25.,179.,60.,208.,606.]\n",
        "y_data=[640.,633.,619.,393.,428.,27.,193.,66.,226.,1591.]\n",
        "# ydata = b + w * xdata"
      ],
      "execution_count": 20,
      "outputs": []
    },
    {
      "cell_type": "code",
      "metadata": {
        "id": "fcU3oQ9OrNXe"
      },
      "source": [
        "x=np.arange(-200,-100,1) #bias\n",
        "y=np.arange(-5,5,0.1) #weight\n",
        "Z=np.zeros((len(x),len(y)))\n",
        "X,Y=np.meshgrid(x,y)\n",
        "for i in range(len(x)):\n",
        "  for j in range(len(y)):\n",
        "    b=x[i]\n",
        "    w=y[j]\n",
        "    Z[j][i]=0\n",
        "    for n in range(len(x_data)):\n",
        "      Z[j][i] = Z[j][i] + (y_data[n] - b - w*x_data[n])**2\n",
        "    Z[j][i] = Z[j][i]/len(x_data)\n",
        "\n"
      ],
      "execution_count": 21,
      "outputs": []
    },
    {
      "cell_type": "code",
      "metadata": {
        "colab": {
          "base_uri": "https://localhost:8080/",
          "height": 285
        },
        "id": "8aAKGCqEsqSw",
        "outputId": "25cb0f44-aa85-4c64-8df5-9f317c9d98bb"
      },
      "source": [
        "#ydata = b + w * xdata\n",
        "b=-120 #initial b\n",
        "w=-4 #initial w\n",
        "lr=0.0000001 #learning rate  ###############調整學習速率lr###################\n",
        "iteration=100000\n",
        "\n",
        "#Store initial values for plotting\n",
        "b_history=[b]\n",
        "w_history=[w]\n",
        "\n",
        "#Iterations\n",
        "for i in range(iteration):\n",
        "  b_grad=0.0\n",
        "  w_grad=0.0\n",
        "  for n in range(len(x_data)):\n",
        "    b_grad = b_grad - 2.0*(y_data[n] - b - w*x_data[n])*1.0\n",
        "    w_grad = w_grad - 2.0*(y_data[n] - b - w*x_data[n])*x_data[n]\n",
        "  \n",
        "\n",
        "\n",
        "  #Update parameters.\n",
        "  b = b - lr*b_grad\n",
        "  w = w - lr*w_grad\n",
        "\n",
        "  #Store parameters for plotting\n",
        "  b_history.append(b)\n",
        "  w_history.append(w)\n",
        "\n",
        "\n",
        "#plot the figure\n",
        "plt.contourf(x,y,Z,50,alpha=0.5,cmap=plt.get_cmap('jet'))\n",
        "plt.plot([-188.4],[2.67],'x',ms=12,markeredgewidth=3,color='orange')\n",
        "plt.plot(b_history,w_history,'o-',ms=3,lw=1.5,color='black')\n",
        "plt.xlim(-200,-100)\n",
        "plt.ylim(-5,5)\n",
        "plt.xlabel(r'$b$',fontsize=16)\n",
        "plt.ylabel(r'$w$',fontsize=16)\n",
        "plt.show()"
      ],
      "execution_count": 25,
      "outputs": [
        {
          "output_type": "display_data",
          "data": {
            "image/png": "[encoded data removed]",
            "text/plain": [
              "<Figure size 432x288 with 1 Axes>"
            ]
          },
          "metadata": {
            "needs_background": "light"
          }
        }
      ]
    },
    {
      "cell_type": "code",
      "metadata": {
        "colab": {
          "base_uri": "https://localhost:8080/",
          "height": 285
        },
        "id": "SFZL_kjZ0mnK",
        "outputId": "19fbb551-0834-4219-b6d8-c178d6d29b8d"
      },
      "source": [
        "#ydata = b + w * xdata\n",
        "b=-120 #initial b\n",
        "w=-4 #initial w\n",
        "lr=1 #learning rate  ##############試著調整學習速率lr 仍然離最佳解很遠 (太大又差更多)###################\n",
        "iteration=100000\n",
        "\n",
        "#Store initial values for plotting\n",
        "b_history=[b]\n",
        "w_history=[w]\n",
        "\n",
        "########初值\n",
        "lr_b=0\n",
        "lr_w=0\n",
        "\n",
        "#Iterations\n",
        "for i in range(iteration):\n",
        "  b_grad=0.0\n",
        "  w_grad=0.0\n",
        "  for n in range(len(x_data)):\n",
        "    b_grad = b_grad - 2.0*(y_data[n] - b - w*x_data[n])*1.0\n",
        "    w_grad = w_grad - 2.0*(y_data[n] - b - w*x_data[n])*x_data[n]\n",
        "  \n",
        "  ######################給b跟w客製化的lr##################### \n",
        "  lr_b = lr_b + b_grad**2\n",
        "  lr_w = lr_w + w_grad**2\n",
        "\n",
        "  #######################\n",
        "  #Update parameters.\n",
        "  b = b - lr/np.sqrt(lr_b) * b_grad\n",
        "  w = w - lr/np.sqrt(lr_w) * w_grad\n",
        "\n",
        "  #Store parameters for plotting\n",
        "  b_history.append(b)\n",
        "  w_history.append(w)\n",
        "\n",
        "\n",
        "#plot the figure\n",
        "plt.contourf(x,y,Z,50,alpha=0.5,cmap=plt.get_cmap('jet'))\n",
        "plt.plot([-188.4],[2.67],'x',ms=12,markeredgewidth=3,color='orange')\n",
        "plt.plot(b_history,w_history,'o-',ms=3,lw=1.5,color='black')\n",
        "plt.xlim(-200,-100)\n",
        "plt.ylim(-5,5)\n",
        "plt.xlabel(r'$b$',fontsize=16)\n",
        "plt.ylabel(r'$w$',fontsize=16)\n",
        "plt.show()"
      ],
      "execution_count": 28,
      "outputs": [
        {
          "output_type": "display_data",
          "data": {
            "image/png": "[encoded data removed]",
            "text/plain": [
              "<Figure size 432x288 with 1 Axes>"
            ]
          },
          "metadata": {
            "needs_background": "light"
          }
        }
      ]
    },
    {
      "cell_type": "code",
      "metadata": {
        "id": "bY2dE0lpzNIE"
      },
      "source": [
        "  lr_b = lr_b + b_grad**2\n",
        "  lr_w = lr_w + w_grad**2"
      ],
      "execution_count": null,
      "outputs": []
    }
  ]
}